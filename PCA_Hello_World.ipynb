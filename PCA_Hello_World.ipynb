{
 "cells": [
  {
   "cell_type": "code",
   "execution_count": 29,
   "id": "d9474a2e",
   "metadata": {},
   "outputs": [],
   "source": [
    "# Importing Libraries\n",
    "import yfinance as yf\n",
    "import pandas as pd\n",
    "import numpy as np\n",
    "from sklearn.decomposition import PCA\n",
    "import matplotlib.pyplot as plt"
   ]
  },
  {
   "cell_type": "code",
   "execution_count": 44,
   "id": "264022c5",
   "metadata": {},
   "outputs": [
    {
     "name": "stdout",
     "output_type": "stream",
     "text": [
      "[*********************100%***********************]  9 of 9 completed\n",
      "                AAPL      AMZN        AU       BTC       GFI     GOOGL  \\\n",
      "Date                                                                     \n",
      "2020-10-02 -0.032280 -0.029883 -0.016263  0.000000 -0.022581 -0.021708   \n",
      "2020-10-05  0.030791  0.023744  0.001922 -0.000050  0.015677  0.018707   \n",
      "2020-10-06 -0.028670 -0.031020 -0.028396  0.000350 -0.035743 -0.021452   \n",
      "2020-10-07  0.016967  0.030881  0.006714 -0.001100 -0.000842  0.005596   \n",
      "2020-10-08 -0.000956 -0.001608  0.040800  0.000751  0.035413  0.016647   \n",
      "...              ...       ...       ...       ...       ...       ...   \n",
      "2022-11-22  0.014661  0.008003  0.055977  0.001385  0.015038  0.015167   \n",
      "2022-11-23  0.005926  0.009979  0.010491  0.003040  0.024074  0.014529   \n",
      "2022-11-25 -0.019594 -0.007649 -0.007650  0.000378 -0.013562 -0.010156   \n",
      "2022-11-28 -0.026264  0.005781 -0.044053  0.000334 -0.024748 -0.014467   \n",
      "2022-11-29 -0.021148 -0.016285  0.025922 -0.002142  0.026316 -0.008954   \n",
      "\n",
      "                 LTC      META      NFLX  \n",
      "Date                                      \n",
      "2020-10-02  0.018172 -0.025091 -0.046350  \n",
      "2020-10-05 -0.016200  0.018120  0.034966  \n",
      "2020-10-06 -0.008373 -0.022634 -0.028388  \n",
      "2020-10-07  0.001688 -0.002088  0.056912  \n",
      "2020-10-08  0.015173  0.021850 -0.005368  \n",
      "...              ...       ...       ...  \n",
      "2022-11-22 -0.003318  0.014382  0.005753  \n",
      "2022-11-23 -0.004353  0.007179  0.016778  \n",
      "2022-11-25 -0.005916 -0.007395 -0.020446  \n",
      "2022-11-28 -0.015783 -0.023607 -0.015304  \n",
      "2022-11-29  0.026025  0.006251 -0.000747  \n",
      "\n",
      "[544 rows x 9 columns]\n"
     ]
    }
   ],
   "source": [
    "# Building a Test Portfolio\n",
    "symbols = [\n",
    "    'AAPL',\n",
    "    'NFLX',\n",
    "    'AMZN',\n",
    "    'META',\n",
    "    'GOOGL',\n",
    "    'BTC',\n",
    "    'LTC',\n",
    "    'AU',\n",
    "    'GFI',\n",
    "]\n",
    "data = yf.download(symbols, start=\"2020-01-01\", end=\"2022-11-30\")\n",
    "portfolio_returns = data['Adj Close'].pct_change().dropna()\n",
    "print(portfolio_returns)"
   ]
  },
  {
   "cell_type": "code",
   "execution_count": 45,
   "id": "3d8749a7",
   "metadata": {},
   "outputs": [
    {
     "data": {
      "text/plain": [
       "PCA(n_components=3)"
      ]
     },
     "execution_count": 45,
     "metadata": {},
     "output_type": "execute_result"
    }
   ],
   "source": [
    "# Using sklearn to fit a PCA model and get components\n",
    "pca = PCA(n_components=3)\n",
    "pca.fit(portfolio_returns)"
   ]
  },
  {
   "cell_type": "code",
   "execution_count": 46,
   "id": "34195925",
   "metadata": {},
   "outputs": [
    {
     "name": "stdout",
     "output_type": "stream",
     "text": [
      "[0.43790568 0.29433549 0.09556198]\n",
      "[[ 2.58569284e-01  3.53463976e-01  3.67946356e-01  1.19713084e-02\n",
      "   4.07939963e-01  2.77192841e-01  6.04329088e-02  4.53641287e-01\n",
      "   4.69024383e-01]\n",
      " [ 1.56924435e-01  2.22368001e-01 -5.18616124e-01 -5.33099119e-03\n",
      "  -6.54480335e-01  1.63271822e-01  7.15020856e-03  3.01102454e-01\n",
      "   3.33496746e-01]\n",
      " [ 2.27439095e-01  1.57652270e-01 -6.39375732e-02 -1.87258215e-04\n",
      "   1.59326264e-02  2.80001310e-01  1.58425801e-01  4.19650137e-01\n",
      "  -7.99668442e-01]]\n"
     ]
    }
   ],
   "source": [
    "# Grabbing explained variance and components\n",
    "pct = pca.explained_variance_ratio_\n",
    "print(pct)\n",
    "pca_components = pca.components_\n",
    "print(pca_components)"
   ]
  },
  {
   "cell_type": "code",
   "execution_count": 47,
   "id": "18c86505",
   "metadata": {},
   "outputs": [
    {
     "data": {
      "text/plain": [
       "(0.0, 100.0)"
      ]
     },
     "execution_count": 47,
     "metadata": {},
     "output_type": "execute_result"
    },
    {
     "data": {
      "image/png": "[encoded data removed]",
      "text/plain": [
       "<Figure size 432x288 with 2 Axes>"
      ]
     },
     "metadata": {
      "needs_background": "light"
     },
     "output_type": "display_data"
    }
   ],
   "source": [
    "# Charting PCA\n",
    "cum_pct = np.cumsum(pct)\n",
    "x=np.arange(1,len(pct)+1,1)\n",
    "\n",
    "plt.subplot(1, 2, 1)\n",
    "plt.bar(x, pct*100, align=\"center\")\n",
    "plt.title('Contribution (%)')\n",
    "plt.xlabel('Component')\n",
    "plt.xticks(x)\n",
    "plt.xlim([0, 4])\n",
    "plt.ylim([0, 100])\n",
    "\n",
    "plt.subplot(1, 2, 2)\n",
    "plt.plot(x, cum_pct*100, 'ro-')\n",
    "plt.title('Cumulative contribution (%)')\n",
    "plt.xlabel('Component')\n",
    "plt.xticks(x)\n",
    "plt.xlim([0, 4])\n",
    "plt.ylim([0, 100])"
   ]
  },
  {
   "cell_type": "code",
   "execution_count": 48,
   "id": "de04a64e",
   "metadata": {},
   "outputs": [
    {
     "data": {
      "text/html": [
       "<div>\n",
       "<style scoped>\n",
       "    .dataframe tbody tr th:only-of-type {\n",
       "        vertical-align: middle;\n",
       "    }\n",
       "\n",
       "    .dataframe tbody tr th {\n",
       "        vertical-align: top;\n",
       "    }\n",
       "\n",
       "    .dataframe thead th {\n",
       "        text-align: right;\n",
       "    }\n",
       "</style>\n",
       "<table border=\"1\" class=\"dataframe\">\n",
       "  <thead>\n",
       "    <tr style=\"text-align: right;\">\n",
       "      <th></th>\n",
       "      <th>f1</th>\n",
       "      <th>f2</th>\n",
       "      <th>f3</th>\n",
       "    </tr>\n",
       "    <tr>\n",
       "      <th>Date</th>\n",
       "      <th></th>\n",
       "      <th></th>\n",
       "      <th></th>\n",
       "    </tr>\n",
       "  </thead>\n",
       "  <tbody>\n",
       "    <tr>\n",
       "      <th>2020-10-02</th>\n",
       "      <td>-0.072145</td>\n",
       "      <td>-0.014924</td>\n",
       "      <td>0.011963</td>\n",
       "    </tr>\n",
       "    <tr>\n",
       "      <th>2020-10-05</th>\n",
       "      <td>0.052282</td>\n",
       "      <td>0.018911</td>\n",
       "      <td>-0.006813</td>\n",
       "    </tr>\n",
       "    <tr>\n",
       "      <th>2020-10-06</th>\n",
       "      <td>-0.073437</td>\n",
       "      <td>0.006877</td>\n",
       "      <td>-0.004296</td>\n",
       "    </tr>\n",
       "    <tr>\n",
       "      <th>2020-10-07</th>\n",
       "      <td>0.044815</td>\n",
       "      <td>0.025882</td>\n",
       "      <td>-0.036267</td>\n",
       "    </tr>\n",
       "    <tr>\n",
       "      <th>2020-10-08</th>\n",
       "      <td>0.041578</td>\n",
       "      <td>-0.037233</td>\n",
       "      <td>0.018011</td>\n",
       "    </tr>\n",
       "  </tbody>\n",
       "</table>\n",
       "</div>"
      ],
      "text/plain": [
       "                  f1        f2        f3\n",
       "Date                                    \n",
       "2020-10-02 -0.072145 -0.014924  0.011963\n",
       "2020-10-05  0.052282  0.018911 -0.006813\n",
       "2020-10-06 -0.073437  0.006877 -0.004296\n",
       "2020-10-07  0.044815  0.025882 -0.036267\n",
       "2020-10-08  0.041578 -0.037233  0.018011"
      ]
     },
     "execution_count": 48,
     "metadata": {},
     "output_type": "execute_result"
    }
   ],
   "source": [
    "# Forces that move stock prices isolated as principal components\n",
    "# Forces include market, interest rates, and pandemic concerns\n",
    "X = np.asarray(portfolio_returns)\n",
    "factor_returns = X.dot(pca_components.T)\n",
    "factor_returns = pd.DataFrame(\n",
    "    columns=[\"f1\", \"f2\", \"f3\"],\n",
    "    index=portfolio_returns.index,\n",
    "    data=factor_returns\n",
    ")\n",
    "factor_returns.head()"
   ]
  },
  {
   "cell_type": "code",
   "execution_count": 49,
   "id": "d60c5a1e",
   "metadata": {},
   "outputs": [
    {
     "data": {
      "text/plain": [
       "<AxesSubplot:>"
      ]
     },
     "execution_count": 49,
     "metadata": {},
     "output_type": "execute_result"
    },
    {
     "data": {
      "image/png": "[encoded data removed]",
      "text/plain": [
       "<Figure size 432x288 with 1 Axes>"
      ]
     },
     "metadata": {
      "needs_background": "light"
     },
     "output_type": "display_data"
    }
   ],
   "source": [
    "factor_exposures = pd.DataFrame(\n",
    "    index=[\"f1\", \"f2\", \"f3\"],\n",
    "    columns=portfolio_returns.columns,\n",
    "    data=pca_components\n",
    ").T\n",
    "\n",
    "factor_exposures.f1.sort_values().plot.bar()"
   ]
  },
  {
   "cell_type": "code",
   "execution_count": 51,
   "id": "fb290d8d",
   "metadata": {},
   "outputs": [
    {
     "data": {
      "image/png": "[encoded data removed]",
      "text/plain": [
       "<Figure size 432x288 with 1 Axes>"
      ]
     },
     "metadata": {
      "needs_background": "light"
     },
     "output_type": "display_data"
    }
   ],
   "source": [
    "# Scatterplot Visualization\n",
    "labels = factor_exposures.index\n",
    "data = factor_exposures.values\n",
    "plt.scatter(data[:, 0], data[:, 1])\n",
    "plt.xlabel('factor exposure of PC1')\n",
    "plt.ylabel('factor exposure of PC2')\n",
    "\n",
    "for label, x, y, in zip(labels, data[:, 0], data[:, 1]):\n",
    "    plt.annotate(\n",
    "        label,\n",
    "        xy=(x, y),\n",
    "        xytext=(-20,20),\n",
    "        textcoords='offset points',\n",
    "        arrowprops=dict(arrowstyle='->', connectionstyle='arc3,rad=0')\n",
    "    );"
   ]
  },
  {
   "cell_type": "code",
   "execution_count": null,
   "id": "ada17df5",
   "metadata": {},
   "outputs": [],
   "source": []
  }
 ],
 "metadata": {
  "kernelspec": {
   "display_name": "Python 3",
   "language": "python",
   "name": "python3"
  },
  "language_info": {
   "codemirror_mode": {
    "name": "ipython",
    "version": 3
   },
   "file_extension": ".py",
   "mimetype": "text/x-python",
   "name": "python",
   "nbconvert_exporter": "python",
   "pygments_lexer": "ipython3",
   "version": "3.8.8"
  }
 },
 "nbformat": 4,
 "nbformat_minor": 5
}
